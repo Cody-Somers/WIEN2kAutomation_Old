{
 "cells": [
  {
   "cell_type": "code",
   "execution_count": null,
   "id": "e9a1c10d-2f64-4dd6-b8ad-fc8c8bfadf8b",
   "metadata": {},
   "outputs": [],
   "source": [
    "# Needs\n",
    "# pip install fabric\n",
    "# pip install chardet\n",
    "# Place initialization.py, jupyter_interface.py, cif_file, and this jupyter_notebook in the same location"
   ]
  },
  {
   "cell_type": "code",
   "execution_count": null,
   "id": "57bd079e-8520-4c5e-acc3-da50ba31cdf1",
   "metadata": {},
   "outputs": [],
   "source": [
    "from jupyter_interface import *\n",
    "\n",
    "# Default options for JupyterInterface()\n",
    "# rkmax = 7.00, nn = 3, functional = \"PBE\", cutoff_energy = -6, k_points = 1000, e_range = (-9.0, 3.5)"
   ]
  },
  {
   "cell_type": "code",
   "execution_count": null,
   "id": "8817204a-f6d5-486d-aef3-91d882c832f2",
   "metadata": {
    "scrolled": true
   },
   "outputs": [],
   "source": [
    "# Create an instance of the class\n",
    "CoFeMn = JupyterInterface()\n",
    "# Functions that don't need server access. Can manually upload to server and start calculations\n",
    "CoFeMn.create_new_calculation(rkmax = 8, k_points = 100, encoding_type = 'ASCII')#,errors = 'ignore')\n",
    "CoFeMn.create_new_calculation(rkmax = 4)\n",
    "\n",
    "# Functions if you want to interact with server\n",
    "working_directory = 'TestFolder'\n",
    "server_name = 'host@server:port'\n",
    "cif = 'Good.cif' # Name of the cif file\n",
    "CoFeMn.initialize_server(working_directory,server_name,ssh_key=False)\n",
    "CoFeMn.upload_cif_structure(cif) # Only needs to be run once.\n",
    "CoFeMn.submit_calculation() # Runs calculations as specified from .create_new_calculation"
   ]
  },
  {
   "cell_type": "code",
   "execution_count": null,
   "id": "706cd212-3a38-459d-94fc-3e84da911461",
   "metadata": {},
   "outputs": [],
   "source": [
    "CoFeMn.find_encoding()"
   ]
  },
  {
   "cell_type": "code",
   "execution_count": null,
   "id": "f90c3199-3bb3-4f51-9044-a3c1ddc24729",
   "metadata": {},
   "outputs": [],
   "source": []
  }
 ],
 "metadata": {
  "kernelspec": {
   "display_name": "Python 3 (ipykernel)",
   "language": "python",
   "name": "python3"
  },
  "language_info": {
   "codemirror_mode": {
    "name": "ipython",
    "version": 3
   },
   "file_extension": ".py",
   "mimetype": "text/x-python",
   "name": "python",
   "nbconvert_exporter": "python",
   "pygments_lexer": "ipython3",
   "version": "3.10.16"
  }
 },
 "nbformat": 4,
 "nbformat_minor": 5
}
